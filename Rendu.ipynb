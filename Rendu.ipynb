{
 "cells": [
  {
   "cell_type": "markdown",
   "metadata": {},
   "source": [
    "# Compte rendu projet numérique de mathématiques"
   ]
  },
  {
   "cell_type": "code",
   "execution_count": 2,
   "metadata": {},
   "outputs": [],
   "source": [
    "#Prémilinaires\n",
    "# Third-Party Libraries\n",
    "# ---------------------\n",
    "\n",
    "# Autograd & Numpy\n",
    "import autograd\n",
    "import autograd.numpy as np\n",
    "\n",
    "# Pandas\n",
    "import pandas as pd\n",
    "\n",
    "# Matplotlib\n",
    "import matplotlib as mpl\n",
    "import matplotlib.pyplot as plt\n",
    "plt.rcParams['figure.figsize'] = [10, 10] # [width, height] (inches). \n",
    "\n",
    "# Jupyter & IPython\n",
    "from IPython.display import display\n",
    "\n",
    "\n",
    "def grad(f):\n",
    "    g = autograd.grad\n",
    "    def grad_f(x, y):\n",
    "        return np.array([g(f, 0)(x, y), g(f, 1)(x, y)])\n",
    "    return grad_f\n",
    "\n",
    "\n",
    "def J(f):\n",
    "    j = autograd.jacobian\n",
    "    def J_f(x, y):\n",
    "        return np.array([j(f, 0)(x, y), j(f, 1)(x, y)]).T\n",
    "    return J_f\n",
    "\n",
    "def f(x, y):\n",
    "    return np.sin(x) + 2.0 * np.sin(y)\n",
    "\n",
    "grad_f = grad(f)\n",
    "\n",
    "grad_f(0.0, 0.0) # array([1., 2.])\n",
    "\n",
    "def f(x, y):\n",
    "    return np.array([x + 2 * y, 3 * x + 4 * y])\n",
    "\n",
    "J_f = J(f)\n",
    "\n",
    "J_f(0.0, 0.0) # array([[1., 2.], [3., 4.]])\n",
    "\n",
    "def display_contour(f, x, y, levels):\n",
    "    X, Y = np.meshgrid(x, y)\n",
    "    Z = f(X, Y)\n",
    "    fig, ax = plt.subplots()\n",
    "    contour_set = plt.contour(\n",
    "        X, Y, Z, colors=\"grey\", linestyles=\"dashed\", \n",
    "        levels=levels \n",
    "    )\n",
    "    ax.clabel(contour_set)\n",
    "    plt.grid(True)\n",
    "    plt.xlabel(\"$x_1$\") \n",
    "    plt.ylabel(\"$x_2$\")\n",
    "    plt.gca().set_aspect(\"equal\")\n",
    "\n",
    "def f1(x1, x2):\n",
    "    x1 = np.array(x1)\n",
    "    x2 = np.array(x2)\n",
    "    return 3.0 * x1 * x1 - 2.0 * x1 * x2 + 3.0 * x2 * x2 \n",
    "\n",
    "#display_contour(f1, x=np.linspace(-1.0, 1.0, 100), y=np.linspace(-1.0, 1.0, 100), levels=10)\n",
    "\n",
    "N=100\n",
    "eps=1e-5\n"
   ]
  },
  {
   "cell_type": "markdown",
   "metadata": {},
   "source": [
    "## Question 1"
   ]
  },
  {
   "cell_type": "markdown",
   "metadata": {},
   "source": [
    "Soit l'ensemble de niveau c est vide, soit l'ensemble de niveau c de f est borné (démo avec limite) et fermé (image réciproque du singleton {c} par f fonction continue) si non vide"
   ]
  },
  {
   "cell_type": "markdown",
   "metadata": {},
   "source": [
    "## Question 2"
   ]
  },
  {
   "cell_type": "markdown",
   "metadata": {},
   "source": [
    "$p(x_0)$ est le produit scalaire du vecteur unitaire \n",
    "$$\n",
    "\\overrightarrow{u} = \\frac{1}{||\\nabla f(x_0)||}\\times rot_{-\\frac{\\pi}{2}}(\\partial_1 f(x_0),\\partial_2 f(x_0)) = \\frac{1}{||\\nabla f(x_0)||}\\times (\\partial_2 f(x_0),-\\partial_1 f(x_0))\n",
    "$$ \n",
    "où $rot_{-\\frac{\\pi}{2}}$ est la rotation d'angle $-\\frac{\\pi}{2}$ du plan, avec le vecteur \n",
    "$$\n",
    "(x_1-x_{10},x_2-_{20})\n",
    "$$\n",
    "i.e. \n",
    "$$\n",
    "p(x_0) = \\overrightarrow{u}.(x_1-x_{10},x_2-_{20}) = \\frac{\\partial_2 f(x_0)}{\\|\\nabla f(x_0)\\|} (x_1 - x_{10}) -\n",
    "\\frac{\\partial_1 f(x_0)}{\\|\\nabla f(x_0)\\|} (x_2 - x_{20})\n",
    "$$"
   ]
  },
  {
   "cell_type": "markdown",
   "metadata": {},
   "source": [
    "## Question 3"
   ]
  },
  {
   "cell_type": "markdown",
   "metadata": {},
   "source": [
    "Théorème des fonctions implicites obviously mais je sais pas quoi faire"
   ]
  },
  {
   "cell_type": "markdown",
   "metadata": {},
   "source": [
    "## Question 4"
   ]
  },
  {
   "cell_type": "markdown",
   "metadata": {},
   "source": [
    "Ca doit découler de la question précédente du coup"
   ]
  },
  {
   "cell_type": "markdown",
   "metadata": {},
   "source": [
    "## Question 5"
   ]
  },
  {
   "cell_type": "markdown",
   "metadata": {},
   "source": [
    "Il faut une epsilon bien plus grand que l'espilon machine (on est en 32 ou 64 bit?), mais si il est trop petit, la convergence n'aura jamais lieu en N étapes"
   ]
  },
  {
   "cell_type": "markdown",
   "metadata": {},
   "source": [
    "## Tâche 1"
   ]
  },
  {
   "cell_type": "code",
   "execution_count": 4,
   "metadata": {},
   "outputs": [],
   "source": [
    "def Newton(F, x0, y0, eps=eps, N=N):\n",
    "    Jacf=J(F)\n",
    "    for _ in range(N):\n",
    "        Z=np.array([x0,y0])\n",
    "        FZ=np.array(F(x0,y0))\n",
    "        Jinv=np.linalg.inv(Jacf(x0,y0))\n",
    "        Z = Z - np.transpose(np.dot(Jinv, np.transpose(FZ) ))\n",
    "        x = Z[0]\n",
    "        y = Z[1]\n",
    "        if np.sqrt((x - x0)**2 + (y - y0)**2) <= eps:\n",
    "            return x, y\n",
    "        x0, y0 = x, y\n",
    "    else:\n",
    "        raise ValueError(f\"no convergence in {N} steps.\")\n",
    "\n"
   ]
  },
  {
   "cell_type": "markdown",
   "metadata": {},
   "source": [
    "## Tâche 2"
   ]
  },
  {
   "cell_type": "code",
   "execution_count": 5,
   "metadata": {},
   "outputs": [
    {
     "name": "stdout",
     "output_type": "stream",
     "text": [
      "(0.4472135954999579, 0.4472135954999579) 0.8\n"
     ]
    }
   ],
   "source": [
    "c=0.8\n",
    "\n",
    "def G(x,y):\n",
    "    return np.array([f1(x,y)-c,x-y])\n",
    "\n",
    "N=Newton(G,c,c)\n",
    "print(N,f1(N[0],N[1]))\n",
    "\n",
    "#on trouve bien f(N)=0,8"
   ]
  },
  {
   "cell_type": "markdown",
   "metadata": {},
   "source": [
    "## Tâche 3\n"
   ]
  },
  {
   "cell_type": "markdown",
   "metadata": {},
   "source": [
    "On cherche une solution telle que\n",
    "$\\begin{cases}\n",
    "f(x_0,y_0)=f(x_1,y_1)=c \\\\\n",
    "d((x_0,y_0),(x_1,y_1))=(x_0-x_1)^2+(y_o-y_1)^2=\\delta\n",
    "\\end{cases}$\n",
    "\n",
    "Cela veut dire trouver un zéro de la fonction $\\begin{array}{ccccc}\n",
    "H_0 & : & \\mathbb{R}^2 & \\to & \\mathbb{R}^2 \\\\\n",
    " & & (x,y) & \\mapsto & (f(x,y)-c , (x_0-x)^2+(y_o-y)^2-\\delta) \\\\\n",
    "\\end{array}$\n",
    "\n",
    "Plus la contrainte d'aller \"à droite\" par rapport à  $\\nabla f(x_0, y_0)$ "
   ]
  },
  {
   "cell_type": "code",
   "execution_count": null,
   "metadata": {},
   "outputs": [],
   "source": [
    "#sans la contrainte de la direction c'est juste Newton\n",
    "\n",
    "\n",
    "def level_curve(f, x0, y0, delta=0.1, N=1000, eps=eps):\n",
    "    res=np.zeros((2,N))\n",
    "    res[0][0],res[1][0]=x0,y0\n",
    "    for i in range (1,N):\n",
    "        x,y=fonction(f,x0,y0,delta,eps)  #fonction à determiner\n",
    "        res[0][i],res[1][i]=x,y\n",
    "        x0,y0=x,y\n",
    "    return res\n",
    "   "
   ]
  }
 ],
 "metadata": {
  "kernelspec": {
   "display_name": "Python 3",
   "language": "python",
   "name": "python3"
  },
  "language_info": {
   "codemirror_mode": {
    "name": "ipython",
    "version": 3
   },
   "file_extension": ".py",
   "mimetype": "text/x-python",
   "name": "python",
   "nbconvert_exporter": "python",
   "pygments_lexer": "ipython3",
   "version": "3.8.3"
  },
  "toc": {
   "base_numbering": 1,
   "nav_menu": {},
   "number_sections": true,
   "sideBar": true,
   "skip_h1_title": false,
   "title_cell": "Table of Contents",
   "title_sidebar": "Contents",
   "toc_cell": false,
   "toc_position": {},
   "toc_section_display": true,
   "toc_window_display": false
  }
 },
 "nbformat": 4,
 "nbformat_minor": 4
}
